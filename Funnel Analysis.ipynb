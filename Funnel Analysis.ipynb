{
 "cells": [
  {
   "cell_type": "markdown",
   "metadata": {},
   "source": [
    "## Funnel Analysis"
   ]
  },
  {
   "cell_type": "markdown",
   "metadata": {},
   "source": [
    "### Goal\n",
    "\n",
    "The goal is to perform funnel analysis for an e-commerce website.\n",
    "\n",
    "Typically, websites have a clear path to conversion: for instance, you land on the home page, then you search, select a product and buy it. At each of these steps, some users will drop off and leave the site. The sequence of pages that leads to conversion is called ‘funnel’ .\n",
    "\n",
    "Data Science can have a tremendous impact on funnel optimization. \n",
    "Funnel analysis allows to understand where/when our users abandon the website. It gives crucial insights on user behavior and on ways to improve the user experience as well as it often allows to discover bugs.\n",
    "\n",
    "\n",
    "### Challenge Description\n",
    "\n",
    "\n",
    "You are looking at data from an e-commerce website. The site is very simple and has just 4 pages:\n",
    "\n",
    "\n",
    "1. The first page is the home page. When you come to the site for the first time, you can only land on the home page as a first page.\n",
    "\n",
    "2. From the home page, the user can perform a search and land on the search page.\n",
    "\n",
    "3. From the search page, if the user clicks on a product, she will get to the payment page, where she is asked to provide payment information in order to buy that product.\n",
    "\n",
    "4. If she does decide to buy, she ends up on the confirmation page\n",
    "\n",
    "\n",
    "The company CEO isn’t very happy with the company sales and, especially, sales coming from new users. Therefore, she asked you to investigate whether there is something wrong in the conversion funnel or, in general, if you can create hypotheses on how conversion rate could be improved.\n",
    "\n",
    "Specifically, she is interested in :\n",
    "\n",
    "\n",
    "\n",
    "A full picture of funnel conversion rate for both desktop and mobile\n",
    "\n",
    "\n",
    "Some insights on what the product team should focus on in order to improve conversion rate as well as anything you might discover that could help improve conversion rate.\n",
    "\n",
    "\n"
   ]
  },
  {
   "cell_type": "markdown",
   "metadata": {},
   "source": [
    "#### Data\n",
    "**user_table** - info about the user\n",
    "\n",
    "Columns:\n",
    "\n",
    "user_id : the Id of the user. It is unique by user and can be joined to user id in all other tables        \n",
    "date : the date when the user firstly landed on the site       \n",
    "device : user device. Can be mobile or desktop     \n",
    "sex : male/female\n",
    "\n",
    "\n",
    "**home_page_table** - Users who landed on the home page\n",
    "\n",
    "Columns:\n",
    "\n",
    "user_id : the Id of the user. It is unique by user and can be joined to user id in all other tables    \n",
    "page : it is always home_page.\n",
    "\n",
    "\n",
    "**search_page_table** - Users who landed on the search_page\n",
    "\n",
    "Columns:\n",
    "\n",
    "user_id : the Id of the user. It is unique by user and can be joined to user id in all other tables     \n",
    "page : it is always search_page\n",
    "\n",
    "\n",
    "**payment_page_table** - Users who landed on the payment_page\n",
    "\n",
    "Columns:\n",
    "\n",
    "user_id : the Id of the user. It is unique by user and can be joined to user id in all other tables    \n",
    "page : it is always payment_page\n",
    "\n",
    "\n",
    "**payment_confirmation_table** - Users who landed on the payment_confirmation_table. That is, these are the users who bought the product.\n",
    "\n",
    "Columns:\n",
    "\n",
    "user_id : the Id of the user. It is unique by user and can be joined to user id in all other tables   \n",
    "page : it is always payment_confirmation_page\n"
   ]
  },
  {
   "cell_type": "code",
   "execution_count": 166,
   "metadata": {},
   "outputs": [],
   "source": [
    "import pandas as pd\n",
    "import numpy as np\n",
    "import matplotlib.pyplot as plt\n",
    "pd.set_option('precision',2)\n",
    "%matplotlib inline"
   ]
  },
  {
   "cell_type": "code",
   "execution_count": 2,
   "metadata": {},
   "outputs": [],
   "source": [
    "user_df = pd.read_csv(\"Funnel_Analysis/user_table.csv\")\n",
    "home_df = pd.read_csv(\"Funnel_Analysis/home_page_table.csv\")\n",
    "search_df = pd.read_csv(\"Funnel_Analysis/search_page_table.csv\")\n",
    "pay_df = pd.read_csv(\"Funnel_Analysis/payment_page_table.csv\")\n",
    "confirm_df = pd.read_csv(\"Funnel_Analysis/payment_confirmation_table.csv\")"
   ]
  },
  {
   "cell_type": "code",
   "execution_count": 35,
   "metadata": {},
   "outputs": [],
   "source": [
    "user_df.name = \"user_df\"\n",
    "home_df.name = \"home_df\"\n",
    "search_df.name = \"search_df\"\n",
    "pay_df.name = \"pay_df\"\n",
    "confirm_df.name = \"confirm_df\""
   ]
  },
  {
   "cell_type": "code",
   "execution_count": 30,
   "metadata": {},
   "outputs": [],
   "source": [
    "home_df.name = \"home_page\""
   ]
  },
  {
   "cell_type": "code",
   "execution_count": 32,
   "metadata": {},
   "outputs": [
    {
     "data": {
      "text/plain": [
       "'home_page'"
      ]
     },
     "execution_count": 32,
     "metadata": {},
     "output_type": "execute_result"
    }
   ],
   "source": [
    "home_df.name"
   ]
  },
  {
   "cell_type": "code",
   "execution_count": 22,
   "metadata": {},
   "outputs": [],
   "source": [
    "def get_df_name(df):\n",
    "    name =[x for x in globals() if globals()[x] is df][0]\n",
    "    return name"
   ]
  },
  {
   "cell_type": "code",
   "execution_count": 23,
   "metadata": {},
   "outputs": [
    {
     "data": {
      "text/plain": [
       "'home_df'"
      ]
     },
     "execution_count": 23,
     "metadata": {},
     "output_type": "execute_result"
    }
   ],
   "source": [
    "get_df_name(home_df)"
   ]
  },
  {
   "cell_type": "code",
   "execution_count": 36,
   "metadata": {},
   "outputs": [
    {
     "name": "stdout",
     "output_type": "stream",
     "text": [
      "home_df total length: 90400, number of unique user_id: 90400\n",
      "search_df total length: 45200, number of unique user_id: 45200\n",
      "pay_df total length: 6030, number of unique user_id: 6030\n",
      "confirm_df total length: 452, number of unique user_id: 452\n"
     ]
    }
   ],
   "source": [
    "#check uniqueness of user_id in each table\n",
    "datasets = list([home_df,search_df,pay_df,confirm_df])\n",
    "for df in datasets:\n",
    "    print(\"{} total length: {}, number of unique user_id: {}\".format(df.name,len(df),df['user_id'].nunique()))"
   ]
  },
  {
   "cell_type": "code",
   "execution_count": 54,
   "metadata": {},
   "outputs": [],
   "source": [
    "merge_df = pd.merge(user_df,home_df, on=['user_id'],how='left')\n",
    "merge_df = pd.merge(merge_df,search_df, on=['user_id'],how='left',suffixes=('_home', '_search'))\n",
    "merge_df = pd.merge(merge_df,pay_df, on=['user_id'],how='left')\n",
    "merge_df = pd.merge(merge_df,confirm_df, on=['user_id'],how='left',suffixes=('_pay', '_confirm'))"
   ]
  },
  {
   "cell_type": "code",
   "execution_count": 66,
   "metadata": {},
   "outputs": [
    {
     "name": "stdout",
     "output_type": "stream",
     "text": [
      "<class 'pandas.core.frame.DataFrame'>\n",
      "Int64Index: 90400 entries, 0 to 90399\n",
      "Data columns (total 8 columns):\n",
      " #   Column        Non-Null Count  Dtype \n",
      "---  ------        --------------  ----- \n",
      " 0   user_id       90400 non-null  int64 \n",
      " 1   date          90400 non-null  object\n",
      " 2   device        90400 non-null  object\n",
      " 3   sex           90400 non-null  object\n",
      " 4   page_home     90400 non-null  object\n",
      " 5   page_search   45200 non-null  object\n",
      " 6   page_pay      6030 non-null   object\n",
      " 7   page_confirm  452 non-null    object\n",
      "dtypes: int64(1), object(7)\n",
      "memory usage: 6.2+ MB\n"
     ]
    }
   ],
   "source": [
    "merge_df.info()"
   ]
  },
  {
   "cell_type": "code",
   "execution_count": 195,
   "metadata": {},
   "outputs": [],
   "source": [
    "merge_df['date'] = pd.to_datetime(merge_df['date'])"
   ]
  },
  {
   "cell_type": "markdown",
   "metadata": {},
   "source": [
    "#### Overall Conversion"
   ]
  },
  {
   "cell_type": "code",
   "execution_count": 92,
   "metadata": {},
   "outputs": [
    {
     "data": {
      "text/plain": [
       "page_home      90400\n",
       "page_search    45200\n",
       "page_pay        6030\n",
       "dtype: int64"
      ]
     },
     "execution_count": 92,
     "metadata": {},
     "output_type": "execute_result"
    }
   ],
   "source": [
    "#denominator page_home,page_search,page_pay\n",
    "denominator = merge_df.loc[:,merge_df.columns[4:7]].count()"
   ]
  },
  {
   "cell_type": "code",
   "execution_count": 94,
   "metadata": {},
   "outputs": [
    {
     "data": {
      "text/plain": [
       "page_search     45200\n",
       "page_pay         6030\n",
       "page_confirm      452\n",
       "dtype: int64"
      ]
     },
     "execution_count": 94,
     "metadata": {},
     "output_type": "execute_result"
    }
   ],
   "source": [
    "merge_df.loc[:,merge_df.columns[5:]].count()"
   ]
  },
  {
   "cell_type": "code",
   "execution_count": 100,
   "metadata": {},
   "outputs": [],
   "source": [
    "#numerator page_search,page_pay, page_confirm\n",
    "#.values needed, otherwise index will be included\n",
    "numerator = pd.Series(merge_df.loc[:,merge_df.columns[5:]].count().values)\n",
    "\n",
    "#denominator page_home,page_search,page_pay\n",
    "denominator = pd.Series(merge_df.loc[:,merge_df.columns[4:7]].count().values)"
   ]
  },
  {
   "cell_type": "code",
   "execution_count": 172,
   "metadata": {},
   "outputs": [
    {
     "data": {
      "text/html": [
       "<div>\n",
       "<style scoped>\n",
       "    .dataframe tbody tr th:only-of-type {\n",
       "        vertical-align: middle;\n",
       "    }\n",
       "\n",
       "    .dataframe tbody tr th {\n",
       "        vertical-align: top;\n",
       "    }\n",
       "\n",
       "    .dataframe thead th {\n",
       "        text-align: right;\n",
       "    }\n",
       "</style>\n",
       "<table border=\"1\" class=\"dataframe\">\n",
       "  <thead>\n",
       "    <tr style=\"text-align: right;\">\n",
       "      <th></th>\n",
       "      <th>Page</th>\n",
       "      <th>Conversion Rate</th>\n",
       "    </tr>\n",
       "  </thead>\n",
       "  <tbody>\n",
       "    <tr>\n",
       "      <th>0</th>\n",
       "      <td>home_search</td>\n",
       "      <td>0.50</td>\n",
       "    </tr>\n",
       "    <tr>\n",
       "      <th>1</th>\n",
       "      <td>search_pay</td>\n",
       "      <td>0.13</td>\n",
       "    </tr>\n",
       "    <tr>\n",
       "      <th>2</th>\n",
       "      <td>pay_confirm</td>\n",
       "      <td>0.07</td>\n",
       "    </tr>\n",
       "  </tbody>\n",
       "</table>\n",
       "</div>"
      ],
      "text/plain": [
       "          Page  Conversion Rate\n",
       "0  home_search             0.50\n",
       "1   search_pay             0.13\n",
       "2  pay_confirm             0.07"
      ]
     },
     "execution_count": 172,
     "metadata": {},
     "output_type": "execute_result"
    }
   ],
   "source": [
    "vals = pd.Series(numerator/denominator)\n",
    "cols = pd.Series(['home_search','search_pay','pay_confirm'])\n",
    "pd.DataFrame({\"Page\":cols, \"Conversion Rate\":vals})"
   ]
  },
  {
   "cell_type": "code",
   "execution_count": 173,
   "metadata": {},
   "outputs": [
    {
     "data": {
      "image/png": "[encoded data removed]",
      "text/plain": [
       "<Figure size 432x288 with 1 Axes>"
      ]
     },
     "metadata": {
      "needs_background": "light"
     },
     "output_type": "display_data"
    }
   ],
   "source": [
    "pd.DataFrame({\"Page\":cols, \"Conversion Rate\":vals}).set_index(\"Page\").plot(kind = 'bar');"
   ]
  },
  {
   "cell_type": "markdown",
   "metadata": {},
   "source": [
    "#### by Category Conversion"
   ]
  },
  {
   "cell_type": "code",
   "execution_count": 169,
   "metadata": {},
   "outputs": [],
   "source": [
    "def conversion(cat):\n",
    "    #denominator\n",
    "    df1 = merge_df.groupby(cat).agg({\"page_home\":'count',\"page_search\":'count',\"page_pay\":'count'}).reset_index()\n",
    "    df1.rename(columns = {\"page_home\":\"home_search\",\"page_search\":\"search_pay\",\"page_pay\":\"pay_confirm\"},\n",
    "               inplace = True)\n",
    "    df1.set_index(cat,inplace = True)\n",
    "    #numerator\n",
    "    df2 = merge_df.groupby(cat).agg({\"page_search\":'count',\"page_pay\":'count',\"page_confirm\":'count'}).reset_index()\n",
    "    df2.rename(columns = {\"page_search\":\"home_search\",\"page_pay\":\"search_pay\",\"page_confirm\":\"pay_confirm\"},\n",
    "               inplace = True)\n",
    "    df2.set_index(cat,inplace = True)\n",
    "    return df2/df1"
   ]
  },
  {
   "cell_type": "code",
   "execution_count": 170,
   "metadata": {},
   "outputs": [
    {
     "data": {
      "text/html": [
       "<div>\n",
       "<style scoped>\n",
       "    .dataframe tbody tr th:only-of-type {\n",
       "        vertical-align: middle;\n",
       "    }\n",
       "\n",
       "    .dataframe tbody tr th {\n",
       "        vertical-align: top;\n",
       "    }\n",
       "\n",
       "    .dataframe thead th {\n",
       "        text-align: right;\n",
       "    }\n",
       "</style>\n",
       "<table border=\"1\" class=\"dataframe\">\n",
       "  <thead>\n",
       "    <tr style=\"text-align: right;\">\n",
       "      <th></th>\n",
       "      <th>home_search</th>\n",
       "      <th>search_pay</th>\n",
       "      <th>pay_confirm</th>\n",
       "    </tr>\n",
       "    <tr>\n",
       "      <th>device</th>\n",
       "      <th></th>\n",
       "      <th></th>\n",
       "      <th></th>\n",
       "    </tr>\n",
       "  </thead>\n",
       "  <tbody>\n",
       "    <tr>\n",
       "      <th>Desktop</th>\n",
       "      <td>0.5</td>\n",
       "      <td>0.1</td>\n",
       "      <td>0.05</td>\n",
       "    </tr>\n",
       "    <tr>\n",
       "      <th>Mobile</th>\n",
       "      <td>0.5</td>\n",
       "      <td>0.2</td>\n",
       "      <td>0.10</td>\n",
       "    </tr>\n",
       "  </tbody>\n",
       "</table>\n",
       "</div>"
      ],
      "text/plain": [
       "         home_search  search_pay  pay_confirm\n",
       "device                                       \n",
       "Desktop          0.5         0.1         0.05\n",
       "Mobile           0.5         0.2         0.10"
      ]
     },
     "execution_count": 170,
     "metadata": {},
     "output_type": "execute_result"
    }
   ],
   "source": [
    "device_cov = conversion(\"device\")\n",
    "device_cov"
   ]
  },
  {
   "cell_type": "code",
   "execution_count": 171,
   "metadata": {},
   "outputs": [
    {
     "data": {
      "text/html": [
       "<div>\n",
       "<style scoped>\n",
       "    .dataframe tbody tr th:only-of-type {\n",
       "        vertical-align: middle;\n",
       "    }\n",
       "\n",
       "    .dataframe tbody tr th {\n",
       "        vertical-align: top;\n",
       "    }\n",
       "\n",
       "    .dataframe thead th {\n",
       "        text-align: right;\n",
       "    }\n",
       "</style>\n",
       "<table border=\"1\" class=\"dataframe\">\n",
       "  <thead>\n",
       "    <tr style=\"text-align: right;\">\n",
       "      <th></th>\n",
       "      <th>home_search</th>\n",
       "      <th>search_pay</th>\n",
       "      <th>pay_confirm</th>\n",
       "    </tr>\n",
       "    <tr>\n",
       "      <th>sex</th>\n",
       "      <th></th>\n",
       "      <th></th>\n",
       "      <th></th>\n",
       "    </tr>\n",
       "  </thead>\n",
       "  <tbody>\n",
       "    <tr>\n",
       "      <th>Female</th>\n",
       "      <td>0.5</td>\n",
       "      <td>0.14</td>\n",
       "      <td>0.08</td>\n",
       "    </tr>\n",
       "    <tr>\n",
       "      <th>Male</th>\n",
       "      <td>0.5</td>\n",
       "      <td>0.13</td>\n",
       "      <td>0.07</td>\n",
       "    </tr>\n",
       "  </tbody>\n",
       "</table>\n",
       "</div>"
      ],
      "text/plain": [
       "        home_search  search_pay  pay_confirm\n",
       "sex                                         \n",
       "Female          0.5        0.14         0.08\n",
       "Male            0.5        0.13         0.07"
      ]
     },
     "execution_count": 171,
     "metadata": {},
     "output_type": "execute_result"
    }
   ],
   "source": [
    "sex_cov = conversion(\"sex\")\n",
    "sex_cov"
   ]
  },
  {
   "cell_type": "markdown",
   "metadata": {},
   "source": [
    "For both device and sex, home page to search page conversion is constant. For both search page to pay page and pay page to confirmation page converion, mobile device seems to have advantage over desktop device, and female seems to have a slightly higher conversion rate than male. "
   ]
  },
  {
   "cell_type": "markdown",
   "metadata": {},
   "source": [
    "#### Fully Converted Users by Month Distribution"
   ]
  },
  {
   "cell_type": "code",
   "execution_count": 196,
   "metadata": {},
   "outputs": [],
   "source": [
    "cov_df = merge_df[~merge_df['page_confirm'].isnull()]"
   ]
  },
  {
   "cell_type": "code",
   "execution_count": 210,
   "metadata": {},
   "outputs": [
    {
     "data": {
      "image/png": "[encoded data removed]",
      "text/plain": [
       "<Figure size 432x288 with 1 Axes>"
      ]
     },
     "metadata": {
      "needs_background": "light"
     },
     "output_type": "display_data"
    }
   ],
   "source": [
    "cov_df['date'].groupby([cov_df[\"date\"].dt.year, cov_df[\"date\"].dt.month]).count().plot(kind=\"bar\");\n",
    "plt.title(\"Fully Convereted Users (to payment confirmation page) Firstly Landed Date Distribution\");"
   ]
  },
  {
   "cell_type": "markdown",
   "metadata": {},
   "source": [
    "The date is when the user firstly landed on the site, and fully converted means users who first landed on home page got to the final payment confirmation page. According to the graph above, the earlier users landed, it is more likely they will be fully converted."
   ]
  }
 ],
 "metadata": {
  "kernelspec": {
   "display_name": "Python 3",
   "language": "python",
   "name": "python3"
  },
  "language_info": {
   "codemirror_mode": {
    "name": "ipython",
    "version": 3
   },
   "file_extension": ".py",
   "mimetype": "text/x-python",
   "name": "python",
   "nbconvert_exporter": "python",
   "pygments_lexer": "ipython3",
   "version": "3.8.5"
  }
 },
 "nbformat": 4,
 "nbformat_minor": 4
}
