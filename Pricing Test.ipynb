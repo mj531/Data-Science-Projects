{
 "cells": [
  {
   "cell_type": "markdown",
   "metadata": {},
   "source": [
    "## Pricing Test\n",
    "\n",
    "\n",
    "\n",
    "### Goal\n",
    "\n",
    "Pricing optimization is, non surprisingly, another area where data science can provide huge value.\n",
    "\n",
    "The goal here is to evaluate whether a pricing test running on the site has been successful. As always, you should focus on user segmentation and provide insights about segments who behave differently as well as any other insights you might find.\n",
    "\n",
    "\n",
    "### Challenge Description\n",
    "\n",
    "\n",
    "Company XYZ sells a software for 39. Since revenue has been flat for some time, the VP of Product has decided to run a test increasing the price. She hopes that this would increase revenue. In the experiment, 66% of the users have seen the old price ( 39 ), while a random sample of 33% users a higher price (59).\n",
    "\n",
    "The test has been running for some time and the VP of Product is interested in understanding how it went and whether it would make sense to increase the price for all the users.\n",
    "\n",
    "Especially, you were asked the following questions:\n",
    "\n",
    "The VP of Product is interested in having a holistic view into user behavior, especially focusing on actionable insights that might increase conversion rate. [**What are your main findings looking at the data?**](#q1)\n",
    "\n",
    "[**Should the company sell its software for 39 or 59?**](#q2)\n",
    "\n",
    "[Bonus] [**The VP of Product feels that the test has been running for too long and they should have been able to get statistically significant results in a shorter time. Do you agree with this? After how many days you would have stopped the test?**](#q3) Please, explain why."
   ]
  },
  {
   "cell_type": "markdown",
   "metadata": {},
   "source": [
    "#### Data Table 1: Test Results\n",
    "Columns:\n",
    "- user_id : the Id of the user. Can be joined to user_id in user_table\n",
    "- timestamp : the date and time when the user hit for the first time company XYZ webpage. It is in user local time\n",
    "- source : marketing channel that led to the user coming to the site. It can be: \n",
    "- ads-[“google”, “facebook”, “bing”, “yahoo”, “other”]. That is, user coming from google ads, yahoo ads, etc.\n",
    "- seo - [“google”, “facebook”, “bing”, “yahoo”, “other”]. That is, user coming from google search, yahoo, facebook, etc.\n",
    "- friend_referral : user coming from a referral link of another user\n",
    "- direct_traffic: user coming by directly typing the address of the site on the browser\n",
    "- device : user device. Can be mobile or web.\n",
    "- operative_system : user operative system. Can be: “windows”, “linux”, “mac” for web, and “android”, “iOS” for mobile. \"Other\" if it is none of the above\n",
    "- test: whether the user was in the test (i.e. 1 -> higher price) or in control (0 -> old/lower price)\n",
    "- price : the price the user sees. It should match test\n",
    "- converted : whether the user converted (i.e. 1 -> bought the software) or not (0 -> left the site without buying it)."
   ]
  },
  {
   "cell_type": "code",
   "execution_count": 1,
   "metadata": {},
   "outputs": [],
   "source": [
    "import pandas as pd\n",
    "import seaborn as sns\n",
    "from scipy import stats\n",
    "import matplotlib.pyplot as plt\n",
    "%matplotlib inline"
   ]
  },
  {
   "cell_type": "code",
   "execution_count": 2,
   "metadata": {},
   "outputs": [],
   "source": [
    "df1 = pd.read_csv(\"Pricing_Test/test_results.csv\")"
   ]
  },
  {
   "cell_type": "code",
   "execution_count": 3,
   "metadata": {},
   "outputs": [
    {
     "name": "stdout",
     "output_type": "stream",
     "text": [
      "<class 'pandas.core.frame.DataFrame'>\n",
      "RangeIndex: 316800 entries, 0 to 316799\n",
      "Data columns (total 8 columns):\n",
      " #   Column            Non-Null Count   Dtype \n",
      "---  ------            --------------   ----- \n",
      " 0   user_id           316800 non-null  int64 \n",
      " 1   timestamp         316800 non-null  object\n",
      " 2   source            316800 non-null  object\n",
      " 3   device            316800 non-null  object\n",
      " 4   operative_system  316800 non-null  object\n",
      " 5   test              316800 non-null  int64 \n",
      " 6   price             316800 non-null  int64 \n",
      " 7   converted         316800 non-null  int64 \n",
      "dtypes: int64(4), object(4)\n",
      "memory usage: 19.3+ MB\n"
     ]
    }
   ],
   "source": [
    "df1.info()"
   ]
  },
  {
   "cell_type": "code",
   "execution_count": 4,
   "metadata": {},
   "outputs": [
    {
     "data": {
      "text/plain": [
       "316800"
      ]
     },
     "execution_count": 4,
     "metadata": {},
     "output_type": "execute_result"
    }
   ],
   "source": [
    "#check all user ids are unique\n",
    "df1.user_id.nunique()"
   ]
  },
  {
   "cell_type": "markdown",
   "metadata": {},
   "source": [
    "#### Data Table 2: User Table\n",
    "Columns:\n",
    "- user_id : the Id of the user. Can be joined to user_id in test_results table\n",
    "- city : the city where the user is located. Comes from the user ip address\n",
    "- country : in which country the city is located\n",
    "- lat : city latitude - should match user city\n",
    "- long : city longitude - should match user city"
   ]
  },
  {
   "cell_type": "code",
   "execution_count": 5,
   "metadata": {},
   "outputs": [],
   "source": [
    "df2 = pd.read_csv(\"Pricing_Test/user_table.csv\")"
   ]
  },
  {
   "cell_type": "code",
   "execution_count": 6,
   "metadata": {},
   "outputs": [
    {
     "name": "stdout",
     "output_type": "stream",
     "text": [
      "<class 'pandas.core.frame.DataFrame'>\n",
      "RangeIndex: 275616 entries, 0 to 275615\n",
      "Data columns (total 5 columns):\n",
      " #   Column   Non-Null Count   Dtype  \n",
      "---  ------   --------------   -----  \n",
      " 0   user_id  275616 non-null  int64  \n",
      " 1   city     275616 non-null  object \n",
      " 2   country  275616 non-null  object \n",
      " 3   lat      275616 non-null  float64\n",
      " 4   long     275616 non-null  float64\n",
      "dtypes: float64(2), int64(1), object(2)\n",
      "memory usage: 10.5+ MB\n"
     ]
    }
   ],
   "source": [
    "df2.info()"
   ]
  },
  {
   "cell_type": "markdown",
   "metadata": {},
   "source": [
    "#### Data Processing"
   ]
  },
  {
   "cell_type": "code",
   "execution_count": 7,
   "metadata": {},
   "outputs": [],
   "source": [
    "df = pd.merge(df1,df2, how = 'left', on = ['user_id'] )"
   ]
  },
  {
   "cell_type": "code",
   "execution_count": 8,
   "metadata": {},
   "outputs": [
    {
     "data": {
      "text/html": [
       "<div>\n",
       "<style scoped>\n",
       "    .dataframe tbody tr th:only-of-type {\n",
       "        vertical-align: middle;\n",
       "    }\n",
       "\n",
       "    .dataframe tbody tr th {\n",
       "        vertical-align: top;\n",
       "    }\n",
       "\n",
       "    .dataframe thead th {\n",
       "        text-align: right;\n",
       "    }\n",
       "</style>\n",
       "<table border=\"1\" class=\"dataframe\">\n",
       "  <thead>\n",
       "    <tr style=\"text-align: right;\">\n",
       "      <th></th>\n",
       "      <th>user_id</th>\n",
       "      <th>timestamp</th>\n",
       "      <th>source</th>\n",
       "      <th>device</th>\n",
       "      <th>operative_system</th>\n",
       "      <th>test</th>\n",
       "      <th>price</th>\n",
       "      <th>converted</th>\n",
       "      <th>city</th>\n",
       "      <th>country</th>\n",
       "      <th>lat</th>\n",
       "      <th>long</th>\n",
       "    </tr>\n",
       "  </thead>\n",
       "  <tbody>\n",
       "    <tr>\n",
       "      <th>0</th>\n",
       "      <td>604839</td>\n",
       "      <td>2015-05-08 03:38:34</td>\n",
       "      <td>ads_facebook</td>\n",
       "      <td>mobile</td>\n",
       "      <td>iOS</td>\n",
       "      <td>0</td>\n",
       "      <td>39</td>\n",
       "      <td>0</td>\n",
       "      <td>Buffalo</td>\n",
       "      <td>USA</td>\n",
       "      <td>42.89</td>\n",
       "      <td>-78.86</td>\n",
       "    </tr>\n",
       "    <tr>\n",
       "      <th>1</th>\n",
       "      <td>624057</td>\n",
       "      <td>2015-05-10 21:08:46</td>\n",
       "      <td>seo-google</td>\n",
       "      <td>mobile</td>\n",
       "      <td>android</td>\n",
       "      <td>0</td>\n",
       "      <td>39</td>\n",
       "      <td>0</td>\n",
       "      <td>Lakeville</td>\n",
       "      <td>USA</td>\n",
       "      <td>44.68</td>\n",
       "      <td>-93.24</td>\n",
       "    </tr>\n",
       "    <tr>\n",
       "      <th>2</th>\n",
       "      <td>317970</td>\n",
       "      <td>2015-04-04 15:01:23</td>\n",
       "      <td>ads-bing</td>\n",
       "      <td>mobile</td>\n",
       "      <td>android</td>\n",
       "      <td>0</td>\n",
       "      <td>39</td>\n",
       "      <td>0</td>\n",
       "      <td>Parma</td>\n",
       "      <td>USA</td>\n",
       "      <td>41.38</td>\n",
       "      <td>-81.73</td>\n",
       "    </tr>\n",
       "    <tr>\n",
       "      <th>3</th>\n",
       "      <td>685636</td>\n",
       "      <td>2015-05-07 07:26:01</td>\n",
       "      <td>direct_traffic</td>\n",
       "      <td>mobile</td>\n",
       "      <td>iOS</td>\n",
       "      <td>1</td>\n",
       "      <td>59</td>\n",
       "      <td>0</td>\n",
       "      <td>Fayetteville</td>\n",
       "      <td>USA</td>\n",
       "      <td>35.07</td>\n",
       "      <td>-78.90</td>\n",
       "    </tr>\n",
       "    <tr>\n",
       "      <th>4</th>\n",
       "      <td>820854</td>\n",
       "      <td>2015-05-24 11:04:40</td>\n",
       "      <td>ads_facebook</td>\n",
       "      <td>web</td>\n",
       "      <td>mac</td>\n",
       "      <td>0</td>\n",
       "      <td>39</td>\n",
       "      <td>0</td>\n",
       "      <td>Fishers</td>\n",
       "      <td>USA</td>\n",
       "      <td>39.95</td>\n",
       "      <td>-86.02</td>\n",
       "    </tr>\n",
       "  </tbody>\n",
       "</table>\n",
       "</div>"
      ],
      "text/plain": [
       "   user_id            timestamp          source  device operative_system  \\\n",
       "0   604839  2015-05-08 03:38:34    ads_facebook  mobile              iOS   \n",
       "1   624057  2015-05-10 21:08:46      seo-google  mobile          android   \n",
       "2   317970  2015-04-04 15:01:23        ads-bing  mobile          android   \n",
       "3   685636  2015-05-07 07:26:01  direct_traffic  mobile              iOS   \n",
       "4   820854  2015-05-24 11:04:40    ads_facebook     web              mac   \n",
       "\n",
       "   test  price  converted          city country    lat   long  \n",
       "0     0     39          0       Buffalo     USA  42.89 -78.86  \n",
       "1     0     39          0     Lakeville     USA  44.68 -93.24  \n",
       "2     0     39          0         Parma     USA  41.38 -81.73  \n",
       "3     1     59          0  Fayetteville     USA  35.07 -78.90  \n",
       "4     0     39          0       Fishers     USA  39.95 -86.02  "
      ]
     },
     "execution_count": 8,
     "metadata": {},
     "output_type": "execute_result"
    }
   ],
   "source": [
    "df.head()"
   ]
  },
  {
   "cell_type": "code",
   "execution_count": 9,
   "metadata": {},
   "outputs": [
    {
     "data": {
      "text/html": [
       "<div>\n",
       "<style scoped>\n",
       "    .dataframe tbody tr th:only-of-type {\n",
       "        vertical-align: middle;\n",
       "    }\n",
       "\n",
       "    .dataframe tbody tr th {\n",
       "        vertical-align: top;\n",
       "    }\n",
       "\n",
       "    .dataframe thead th {\n",
       "        text-align: right;\n",
       "    }\n",
       "</style>\n",
       "<table border=\"1\" class=\"dataframe\">\n",
       "  <thead>\n",
       "    <tr style=\"text-align: right;\">\n",
       "      <th></th>\n",
       "      <th>user_id</th>\n",
       "      <th>timestamp</th>\n",
       "      <th>source</th>\n",
       "      <th>device</th>\n",
       "      <th>operative_system</th>\n",
       "      <th>test</th>\n",
       "      <th>price</th>\n",
       "      <th>converted</th>\n",
       "      <th>city</th>\n",
       "      <th>country</th>\n",
       "      <th>lat</th>\n",
       "      <th>long</th>\n",
       "    </tr>\n",
       "  </thead>\n",
       "  <tbody>\n",
       "    <tr>\n",
       "      <th>54</th>\n",
       "      <td>370914</td>\n",
       "      <td>2015-04-24 12:60:46</td>\n",
       "      <td>direct_traffic</td>\n",
       "      <td>mobile</td>\n",
       "      <td>android</td>\n",
       "      <td>0</td>\n",
       "      <td>39</td>\n",
       "      <td>0</td>\n",
       "      <td>North Charleston</td>\n",
       "      <td>USA</td>\n",
       "      <td>32.91</td>\n",
       "      <td>-80.04</td>\n",
       "    </tr>\n",
       "    <tr>\n",
       "      <th>77104</th>\n",
       "      <td>493696</td>\n",
       "      <td>2015-04-24 12:60:46</td>\n",
       "      <td>direct_traffic</td>\n",
       "      <td>mobile</td>\n",
       "      <td>android</td>\n",
       "      <td>0</td>\n",
       "      <td>39</td>\n",
       "      <td>0</td>\n",
       "      <td>North Charleston</td>\n",
       "      <td>USA</td>\n",
       "      <td>32.91</td>\n",
       "      <td>-80.04</td>\n",
       "    </tr>\n",
       "    <tr>\n",
       "      <th>98348</th>\n",
       "      <td>450970</td>\n",
       "      <td>2015-04-24 12:60:46</td>\n",
       "      <td>direct_traffic</td>\n",
       "      <td>mobile</td>\n",
       "      <td>android</td>\n",
       "      <td>0</td>\n",
       "      <td>39</td>\n",
       "      <td>0</td>\n",
       "      <td>North Charleston</td>\n",
       "      <td>USA</td>\n",
       "      <td>32.91</td>\n",
       "      <td>-80.04</td>\n",
       "    </tr>\n",
       "    <tr>\n",
       "      <th>182288</th>\n",
       "      <td>283342</td>\n",
       "      <td>2015-04-24 12:60:46</td>\n",
       "      <td>direct_traffic</td>\n",
       "      <td>mobile</td>\n",
       "      <td>android</td>\n",
       "      <td>0</td>\n",
       "      <td>39</td>\n",
       "      <td>0</td>\n",
       "      <td>NaN</td>\n",
       "      <td>NaN</td>\n",
       "      <td>NaN</td>\n",
       "      <td>NaN</td>\n",
       "    </tr>\n",
       "    <tr>\n",
       "      <th>192065</th>\n",
       "      <td>472694</td>\n",
       "      <td>2015-04-24 12:60:46</td>\n",
       "      <td>direct_traffic</td>\n",
       "      <td>mobile</td>\n",
       "      <td>android</td>\n",
       "      <td>0</td>\n",
       "      <td>39</td>\n",
       "      <td>0</td>\n",
       "      <td>North Charleston</td>\n",
       "      <td>USA</td>\n",
       "      <td>32.91</td>\n",
       "      <td>-80.04</td>\n",
       "    </tr>\n",
       "  </tbody>\n",
       "</table>\n",
       "</div>"
      ],
      "text/plain": [
       "        user_id            timestamp          source  device operative_system  \\\n",
       "54       370914  2015-04-24 12:60:46  direct_traffic  mobile          android   \n",
       "77104    493696  2015-04-24 12:60:46  direct_traffic  mobile          android   \n",
       "98348    450970  2015-04-24 12:60:46  direct_traffic  mobile          android   \n",
       "182288   283342  2015-04-24 12:60:46  direct_traffic  mobile          android   \n",
       "192065   472694  2015-04-24 12:60:46  direct_traffic  mobile          android   \n",
       "\n",
       "        test  price  converted              city country    lat   long  \n",
       "54         0     39          0  North Charleston     USA  32.91 -80.04  \n",
       "77104      0     39          0  North Charleston     USA  32.91 -80.04  \n",
       "98348      0     39          0  North Charleston     USA  32.91 -80.04  \n",
       "182288     0     39          0               NaN     NaN    NaN    NaN  \n",
       "192065     0     39          0  North Charleston     USA  32.91 -80.04  "
      ]
     },
     "execution_count": 9,
     "metadata": {},
     "output_type": "execute_result"
    }
   ],
   "source": [
    "#In order to convert to timestamp object, minute must be within 0 to 59...\n",
    "df[df['timestamp'] =='2015-04-24 12:60:46']"
   ]
  },
  {
   "cell_type": "code",
   "execution_count": 10,
   "metadata": {},
   "outputs": [],
   "source": [
    "#take only date from timestamp column\n",
    "df['timestamp'] = df['timestamp'].apply(lambda x: x.split()[0])"
   ]
  },
  {
   "cell_type": "code",
   "execution_count": 11,
   "metadata": {},
   "outputs": [],
   "source": [
    "df['timestamp'] = pd.to_datetime(df['timestamp'])"
   ]
  },
  {
   "cell_type": "markdown",
   "metadata": {},
   "source": [
    "#### Data Validation"
   ]
  },
  {
   "cell_type": "code",
   "execution_count": 12,
   "metadata": {},
   "outputs": [
    {
     "data": {
      "text/plain": [
       "test  price\n",
       "0     39       202517\n",
       "      59          210\n",
       "1     39          155\n",
       "      59       113918\n",
       "dtype: int64"
      ]
     },
     "execution_count": 12,
     "metadata": {},
     "output_type": "execute_result"
    }
   ],
   "source": [
    "df.groupby(['test','price']).size()"
   ]
  },
  {
   "cell_type": "markdown",
   "metadata": {},
   "source": [
    "According to data description, test= 1 means higher price and 0 means control population, but there are misclassification. To fix, we should assign 210 with price 59 as test = 1 and 155 with price 39 as test = 0."
   ]
  },
  {
   "cell_type": "code",
   "execution_count": 13,
   "metadata": {},
   "outputs": [],
   "source": [
    "df.loc[df[(df['test']==0)&(df['price']==59)].index, 'test'] = 1"
   ]
  },
  {
   "cell_type": "code",
   "execution_count": 14,
   "metadata": {},
   "outputs": [],
   "source": [
    "df.loc[df[(df['test']==1)&(df['price']==39)].index, 'test'] = 0"
   ]
  },
  {
   "cell_type": "code",
   "execution_count": 15,
   "metadata": {},
   "outputs": [
    {
     "data": {
      "text/plain": [
       "test  price\n",
       "0     39       202672\n",
       "1     59       114128\n",
       "dtype: int64"
      ]
     },
     "execution_count": 15,
     "metadata": {},
     "output_type": "execute_result"
    }
   ],
   "source": [
    "df.groupby(['test','price']).size()"
   ]
  },
  {
   "cell_type": "markdown",
   "metadata": {},
   "source": [
    "### <a id='q1'>What are your main findings looking at the data?<a/>"
   ]
  },
  {
   "cell_type": "markdown",
   "metadata": {},
   "source": [
    "#### timestamp"
   ]
  },
  {
   "cell_type": "code",
   "execution_count": 16,
   "metadata": {},
   "outputs": [],
   "source": [
    "#Easier for grouping, extract only year and month\n",
    "df['year_month'] = pd.to_datetime(df['timestamp']).dt.to_period('M')"
   ]
  },
  {
   "cell_type": "code",
   "execution_count": 17,
   "metadata": {},
   "outputs": [
    {
     "data": {
      "text/html": [
       "<div>\n",
       "<style scoped>\n",
       "    .dataframe tbody tr th:only-of-type {\n",
       "        vertical-align: middle;\n",
       "    }\n",
       "\n",
       "    .dataframe tbody tr th {\n",
       "        vertical-align: top;\n",
       "    }\n",
       "\n",
       "    .dataframe thead th {\n",
       "        text-align: right;\n",
       "    }\n",
       "</style>\n",
       "<table border=\"1\" class=\"dataframe\">\n",
       "  <thead>\n",
       "    <tr style=\"text-align: right;\">\n",
       "      <th></th>\n",
       "      <th>user_id</th>\n",
       "      <th>timestamp</th>\n",
       "      <th>source</th>\n",
       "      <th>device</th>\n",
       "      <th>operative_system</th>\n",
       "      <th>test</th>\n",
       "      <th>price</th>\n",
       "      <th>converted</th>\n",
       "      <th>city</th>\n",
       "      <th>country</th>\n",
       "      <th>lat</th>\n",
       "      <th>long</th>\n",
       "      <th>year_month</th>\n",
       "    </tr>\n",
       "  </thead>\n",
       "  <tbody>\n",
       "    <tr>\n",
       "      <th>0</th>\n",
       "      <td>604839</td>\n",
       "      <td>2015-05-08</td>\n",
       "      <td>ads_facebook</td>\n",
       "      <td>mobile</td>\n",
       "      <td>iOS</td>\n",
       "      <td>0</td>\n",
       "      <td>39</td>\n",
       "      <td>0</td>\n",
       "      <td>Buffalo</td>\n",
       "      <td>USA</td>\n",
       "      <td>42.89</td>\n",
       "      <td>-78.86</td>\n",
       "      <td>2015-05</td>\n",
       "    </tr>\n",
       "    <tr>\n",
       "      <th>1</th>\n",
       "      <td>624057</td>\n",
       "      <td>2015-05-10</td>\n",
       "      <td>seo-google</td>\n",
       "      <td>mobile</td>\n",
       "      <td>android</td>\n",
       "      <td>0</td>\n",
       "      <td>39</td>\n",
       "      <td>0</td>\n",
       "      <td>Lakeville</td>\n",
       "      <td>USA</td>\n",
       "      <td>44.68</td>\n",
       "      <td>-93.24</td>\n",
       "      <td>2015-05</td>\n",
       "    </tr>\n",
       "    <tr>\n",
       "      <th>2</th>\n",
       "      <td>317970</td>\n",
       "      <td>2015-04-04</td>\n",
       "      <td>ads-bing</td>\n",
       "      <td>mobile</td>\n",
       "      <td>android</td>\n",
       "      <td>0</td>\n",
       "      <td>39</td>\n",
       "      <td>0</td>\n",
       "      <td>Parma</td>\n",
       "      <td>USA</td>\n",
       "      <td>41.38</td>\n",
       "      <td>-81.73</td>\n",
       "      <td>2015-04</td>\n",
       "    </tr>\n",
       "    <tr>\n",
       "      <th>3</th>\n",
       "      <td>685636</td>\n",
       "      <td>2015-05-07</td>\n",
       "      <td>direct_traffic</td>\n",
       "      <td>mobile</td>\n",
       "      <td>iOS</td>\n",
       "      <td>1</td>\n",
       "      <td>59</td>\n",
       "      <td>0</td>\n",
       "      <td>Fayetteville</td>\n",
       "      <td>USA</td>\n",
       "      <td>35.07</td>\n",
       "      <td>-78.90</td>\n",
       "      <td>2015-05</td>\n",
       "    </tr>\n",
       "    <tr>\n",
       "      <th>4</th>\n",
       "      <td>820854</td>\n",
       "      <td>2015-05-24</td>\n",
       "      <td>ads_facebook</td>\n",
       "      <td>web</td>\n",
       "      <td>mac</td>\n",
       "      <td>0</td>\n",
       "      <td>39</td>\n",
       "      <td>0</td>\n",
       "      <td>Fishers</td>\n",
       "      <td>USA</td>\n",
       "      <td>39.95</td>\n",
       "      <td>-86.02</td>\n",
       "      <td>2015-05</td>\n",
       "    </tr>\n",
       "  </tbody>\n",
       "</table>\n",
       "</div>"
      ],
      "text/plain": [
       "   user_id  timestamp          source  device operative_system  test  price  \\\n",
       "0   604839 2015-05-08    ads_facebook  mobile              iOS     0     39   \n",
       "1   624057 2015-05-10      seo-google  mobile          android     0     39   \n",
       "2   317970 2015-04-04        ads-bing  mobile          android     0     39   \n",
       "3   685636 2015-05-07  direct_traffic  mobile              iOS     1     59   \n",
       "4   820854 2015-05-24    ads_facebook     web              mac     0     39   \n",
       "\n",
       "   converted          city country    lat   long year_month  \n",
       "0          0       Buffalo     USA  42.89 -78.86    2015-05  \n",
       "1          0     Lakeville     USA  44.68 -93.24    2015-05  \n",
       "2          0         Parma     USA  41.38 -81.73    2015-04  \n",
       "3          0  Fayetteville     USA  35.07 -78.90    2015-05  \n",
       "4          0       Fishers     USA  39.95 -86.02    2015-05  "
      ]
     },
     "execution_count": 17,
     "metadata": {},
     "output_type": "execute_result"
    }
   ],
   "source": [
    "df.head()"
   ]
  },
  {
   "cell_type": "code",
   "execution_count": 18,
   "metadata": {},
   "outputs": [],
   "source": [
    "def groupby(factor):\n",
    "    #test vs experiment\n",
    "    con_df = df[(df['test']==0)]\n",
    "    exp_df = df[(df['test']==1)]\n",
    "\n",
    "    #Control group \n",
    "    con_grouped = con_df.groupby([factor])['converted'].value_counts(normalize=True).\\\n",
    "                                rename('percentage').mul(100).reset_index()\n",
    "    con_grouped = con_grouped[con_grouped['converted']==1]\n",
    "    con_grouped['group'] = 'Control'\n",
    "    #Experiment group \n",
    "    exp_grouped = exp_df.groupby([factor])['converted'].value_counts(normalize=True).\\\n",
    "                                rename('percentage').mul(100).reset_index()\n",
    "    exp_grouped = exp_grouped[exp_grouped['converted']==1]\n",
    "    exp_grouped['group'] = 'Experiment'\n",
    "    \n",
    "    #concat\n",
    "    coverted_df = pd.concat([con_grouped,exp_grouped], axis = 0)\n",
    "    return coverted_df"
   ]
  },
  {
   "cell_type": "code",
   "execution_count": 19,
   "metadata": {},
   "outputs": [],
   "source": [
    "coverted_time = groupby(\"year_month\")"
   ]
  },
  {
   "cell_type": "code",
   "execution_count": 20,
   "metadata": {},
   "outputs": [
    {
     "data": {
      "image/png": "[encoded data removed]",
      "text/plain": [
       "<Figure size 432x288 with 1 Axes>"
      ]
     },
     "metadata": {
      "needs_background": "light"
     },
     "output_type": "display_data"
    }
   ],
   "source": [
    "fig, ax = plt.subplots()\n",
    "ax = sns.barplot(data = coverted_time, x = 'year_month', y = 'percentage', hue = \"group\");\n",
    "ax.legend(loc = 'lower center');\n",
    "plt.title(\"Control vs Experiment Conversion Percentage by Year - Month\");"
   ]
  },
  {
   "cell_type": "markdown",
   "metadata": {},
   "source": [
    "Control group always have better conversion rate compared to experiment group which makes sense, since it is cheaper"
   ]
  },
  {
   "cell_type": "code",
   "execution_count": 21,
   "metadata": {},
   "outputs": [
    {
     "data": {
      "text/html": [
       "<div>\n",
       "<style scoped>\n",
       "    .dataframe tbody tr th:only-of-type {\n",
       "        vertical-align: middle;\n",
       "    }\n",
       "\n",
       "    .dataframe tbody tr th {\n",
       "        vertical-align: top;\n",
       "    }\n",
       "\n",
       "    .dataframe thead th {\n",
       "        text-align: right;\n",
       "    }\n",
       "</style>\n",
       "<table border=\"1\" class=\"dataframe\">\n",
       "  <thead>\n",
       "    <tr style=\"text-align: right;\">\n",
       "      <th>year_month</th>\n",
       "      <th>2015-03</th>\n",
       "      <th>2015-04</th>\n",
       "      <th>2015-05</th>\n",
       "    </tr>\n",
       "    <tr>\n",
       "      <th>test</th>\n",
       "      <th></th>\n",
       "      <th></th>\n",
       "      <th></th>\n",
       "    </tr>\n",
       "  </thead>\n",
       "  <tbody>\n",
       "    <tr>\n",
       "      <th>0</th>\n",
       "      <td>0.317266</td>\n",
       "      <td>0.323799</td>\n",
       "      <td>0.358935</td>\n",
       "    </tr>\n",
       "    <tr>\n",
       "      <th>1</th>\n",
       "      <td>0.319483</td>\n",
       "      <td>0.319229</td>\n",
       "      <td>0.361287</td>\n",
       "    </tr>\n",
       "  </tbody>\n",
       "</table>\n",
       "</div>"
      ],
      "text/plain": [
       "year_month   2015-03   2015-04   2015-05\n",
       "test                                    \n",
       "0           0.317266  0.323799  0.358935\n",
       "1           0.319483  0.319229  0.361287"
      ]
     },
     "execution_count": 21,
     "metadata": {},
     "output_type": "execute_result"
    }
   ],
   "source": [
    "#check split between control vs experiment group\n",
    "df.groupby(\"test\")['year_month'].value_counts(normalize = True).unstack()"
   ]
  },
  {
   "cell_type": "markdown",
   "metadata": {},
   "source": [
    "#### Source"
   ]
  },
  {
   "cell_type": "code",
   "execution_count": 22,
   "metadata": {},
   "outputs": [],
   "source": [
    "coverted_source = groupby(\"source\")"
   ]
  },
  {
   "cell_type": "code",
   "execution_count": 23,
   "metadata": {},
   "outputs": [
    {
     "data": {
      "image/png": "[encoded data removed]",
      "text/plain": [
       "<Figure size 432x288 with 1 Axes>"
      ]
     },
     "metadata": {
      "needs_background": "light"
     },
     "output_type": "display_data"
    }
   ],
   "source": [
    "fig, ax = plt.subplots()\n",
    "ax = sns.barplot(data = coverted_source, x = 'source', y = 'percentage', hue = \"group\");\n",
    "ax.legend(loc = 'upper right');\n",
    "plt.xticks(rotation = 90);\n",
    "plt.title(\"Control vs Experiment Conversion Percentage by Source\");"
   ]
  },
  {
   "cell_type": "code",
   "execution_count": 24,
   "metadata": {},
   "outputs": [
    {
     "data": {
      "text/html": [
       "<div>\n",
       "<style scoped>\n",
       "    .dataframe tbody tr th:only-of-type {\n",
       "        vertical-align: middle;\n",
       "    }\n",
       "\n",
       "    .dataframe tbody tr th {\n",
       "        vertical-align: top;\n",
       "    }\n",
       "\n",
       "    .dataframe thead th {\n",
       "        text-align: right;\n",
       "    }\n",
       "</style>\n",
       "<table border=\"1\" class=\"dataframe\">\n",
       "  <thead>\n",
       "    <tr style=\"text-align: right;\">\n",
       "      <th>source</th>\n",
       "      <th>ads-bing</th>\n",
       "      <th>ads-google</th>\n",
       "      <th>ads-yahoo</th>\n",
       "      <th>ads_facebook</th>\n",
       "      <th>ads_other</th>\n",
       "      <th>direct_traffic</th>\n",
       "      <th>friend_referral</th>\n",
       "      <th>seo-bing</th>\n",
       "      <th>seo-google</th>\n",
       "      <th>seo-other</th>\n",
       "      <th>seo-yahoo</th>\n",
       "      <th>seo_facebook</th>\n",
       "    </tr>\n",
       "    <tr>\n",
       "      <th>test</th>\n",
       "      <th></th>\n",
       "      <th></th>\n",
       "      <th></th>\n",
       "      <th></th>\n",
       "      <th></th>\n",
       "      <th></th>\n",
       "      <th></th>\n",
       "      <th></th>\n",
       "      <th></th>\n",
       "      <th></th>\n",
       "      <th></th>\n",
       "      <th></th>\n",
       "    </tr>\n",
       "  </thead>\n",
       "  <tbody>\n",
       "    <tr>\n",
       "      <th>0</th>\n",
       "      <td>0.072043</td>\n",
       "      <td>0.186819</td>\n",
       "      <td>0.023772</td>\n",
       "      <td>0.168203</td>\n",
       "      <td>0.095119</td>\n",
       "      <td>0.191196</td>\n",
       "      <td>0.064755</td>\n",
       "      <td>0.006577</td>\n",
       "      <td>0.074510</td>\n",
       "      <td>0.029037</td>\n",
       "      <td>0.021493</td>\n",
       "      <td>0.066477</td>\n",
       "    </tr>\n",
       "    <tr>\n",
       "      <th>1</th>\n",
       "      <td>0.072480</td>\n",
       "      <td>0.188525</td>\n",
       "      <td>0.024227</td>\n",
       "      <td>0.169161</td>\n",
       "      <td>0.092861</td>\n",
       "      <td>0.189323</td>\n",
       "      <td>0.066338</td>\n",
       "      <td>0.007185</td>\n",
       "      <td>0.070745</td>\n",
       "      <td>0.029572</td>\n",
       "      <td>0.021835</td>\n",
       "      <td>0.067748</td>\n",
       "    </tr>\n",
       "  </tbody>\n",
       "</table>\n",
       "</div>"
      ],
      "text/plain": [
       "source  ads-bing  ads-google  ads-yahoo  ads_facebook  ads_other  \\\n",
       "test                                                               \n",
       "0       0.072043    0.186819   0.023772      0.168203   0.095119   \n",
       "1       0.072480    0.188525   0.024227      0.169161   0.092861   \n",
       "\n",
       "source  direct_traffic  friend_referral  seo-bing  seo-google  seo-other  \\\n",
       "test                                                                       \n",
       "0             0.191196         0.064755  0.006577    0.074510   0.029037   \n",
       "1             0.189323         0.066338  0.007185    0.070745   0.029572   \n",
       "\n",
       "source  seo-yahoo  seo_facebook  \n",
       "test                             \n",
       "0        0.021493      0.066477  \n",
       "1        0.021835      0.067748  "
      ]
     },
     "execution_count": 24,
     "metadata": {},
     "output_type": "execute_result"
    }
   ],
   "source": [
    "#check split between control vs experiment group\n",
    "df.groupby(\"test\")['source'].value_counts(normalize = True).unstack()"
   ]
  },
  {
   "cell_type": "markdown",
   "metadata": {},
   "source": [
    "#### Device"
   ]
  },
  {
   "cell_type": "code",
   "execution_count": 25,
   "metadata": {},
   "outputs": [],
   "source": [
    "coverted_device = groupby(\"device\")"
   ]
  },
  {
   "cell_type": "code",
   "execution_count": 26,
   "metadata": {},
   "outputs": [
    {
     "data": {
      "image/png": "[encoded data removed]",
      "text/plain": [
       "<Figure size 432x288 with 1 Axes>"
      ]
     },
     "metadata": {
      "needs_background": "light"
     },
     "output_type": "display_data"
    }
   ],
   "source": [
    "fig, ax = plt.subplots()\n",
    "ax = sns.barplot(data = coverted_device, x = 'device', y = 'percentage', hue = \"group\");\n",
    "ax.legend(loc = 'lower center');\n",
    "plt.title(\"Control vs Experiment Conversion Percentage by Device\");"
   ]
  },
  {
   "cell_type": "code",
   "execution_count": 27,
   "metadata": {},
   "outputs": [
    {
     "data": {
      "text/html": [
       "<div>\n",
       "<style scoped>\n",
       "    .dataframe tbody tr th:only-of-type {\n",
       "        vertical-align: middle;\n",
       "    }\n",
       "\n",
       "    .dataframe tbody tr th {\n",
       "        vertical-align: top;\n",
       "    }\n",
       "\n",
       "    .dataframe thead th {\n",
       "        text-align: right;\n",
       "    }\n",
       "</style>\n",
       "<table border=\"1\" class=\"dataframe\">\n",
       "  <thead>\n",
       "    <tr style=\"text-align: right;\">\n",
       "      <th>device</th>\n",
       "      <th>mobile</th>\n",
       "      <th>web</th>\n",
       "    </tr>\n",
       "    <tr>\n",
       "      <th>test</th>\n",
       "      <th></th>\n",
       "      <th></th>\n",
       "    </tr>\n",
       "  </thead>\n",
       "  <tbody>\n",
       "    <tr>\n",
       "      <th>0</th>\n",
       "      <td>0.594364</td>\n",
       "      <td>0.405636</td>\n",
       "    </tr>\n",
       "    <tr>\n",
       "      <th>1</th>\n",
       "      <td>0.578386</td>\n",
       "      <td>0.421614</td>\n",
       "    </tr>\n",
       "  </tbody>\n",
       "</table>\n",
       "</div>"
      ],
      "text/plain": [
       "device    mobile       web\n",
       "test                      \n",
       "0       0.594364  0.405636\n",
       "1       0.578386  0.421614"
      ]
     },
     "execution_count": 27,
     "metadata": {},
     "output_type": "execute_result"
    }
   ],
   "source": [
    "#check split between control vs experiment group\n",
    "df.groupby(\"test\")['device'].value_counts(normalize = True).unstack()"
   ]
  },
  {
   "cell_type": "markdown",
   "metadata": {},
   "source": [
    "#### Operative System"
   ]
  },
  {
   "cell_type": "code",
   "execution_count": 28,
   "metadata": {},
   "outputs": [],
   "source": [
    "coverted_sys = groupby(\"operative_system\")"
   ]
  },
  {
   "cell_type": "code",
   "execution_count": 29,
   "metadata": {},
   "outputs": [
    {
     "data": {
      "image/png": "[encoded data removed]",
      "text/plain": [
       "<Figure size 432x288 with 1 Axes>"
      ]
     },
     "metadata": {
      "needs_background": "light"
     },
     "output_type": "display_data"
    }
   ],
   "source": [
    "fig, ax = plt.subplots()\n",
    "ax = sns.barplot(data = coverted_sys, x = 'operative_system', y = 'percentage',\n",
    "                 hue = \"group\");\n",
    "ax.legend(loc = 'upper right');\n",
    "plt.title(\"Control vs Experiment Conversion Percentage by Operative System\");"
   ]
  },
  {
   "cell_type": "code",
   "execution_count": 30,
   "metadata": {},
   "outputs": [
    {
     "data": {
      "text/plain": [
       "test  converted\n",
       "0     0            2172\n",
       "1     0            1929\n",
       "0     1              34\n",
       "dtype: int64"
      ]
     },
     "execution_count": 30,
     "metadata": {},
     "output_type": "execute_result"
    }
   ],
   "source": [
    "df[df['operative_system']=='linux'][['test','converted']].value_counts()"
   ]
  },
  {
   "cell_type": "markdown",
   "metadata": {},
   "source": [
    "There is a big discrepancy within Linux operative system. Within control group, only 34 out of 2207(2173+34) got coverted, and none of experiment group (1928), there might be flaws in the design on Linux system, further investigation is needed."
   ]
  },
  {
   "cell_type": "code",
   "execution_count": 31,
   "metadata": {},
   "outputs": [
    {
     "data": {
      "text/html": [
       "<div>\n",
       "<style scoped>\n",
       "    .dataframe tbody tr th:only-of-type {\n",
       "        vertical-align: middle;\n",
       "    }\n",
       "\n",
       "    .dataframe tbody tr th {\n",
       "        vertical-align: top;\n",
       "    }\n",
       "\n",
       "    .dataframe thead th {\n",
       "        text-align: right;\n",
       "    }\n",
       "</style>\n",
       "<table border=\"1\" class=\"dataframe\">\n",
       "  <thead>\n",
       "    <tr style=\"text-align: right;\">\n",
       "      <th>operative_system</th>\n",
       "      <th>android</th>\n",
       "      <th>iOS</th>\n",
       "      <th>linux</th>\n",
       "      <th>mac</th>\n",
       "      <th>other</th>\n",
       "      <th>windows</th>\n",
       "    </tr>\n",
       "    <tr>\n",
       "      <th>test</th>\n",
       "      <th></th>\n",
       "      <th></th>\n",
       "      <th></th>\n",
       "      <th></th>\n",
       "      <th></th>\n",
       "      <th></th>\n",
       "    </tr>\n",
       "  </thead>\n",
       "  <tbody>\n",
       "    <tr>\n",
       "      <th>0</th>\n",
       "      <td>0.237867</td>\n",
       "      <td>0.305138</td>\n",
       "      <td>0.010885</td>\n",
       "      <td>0.080692</td>\n",
       "      <td>0.051763</td>\n",
       "      <td>0.313655</td>\n",
       "    </tr>\n",
       "    <tr>\n",
       "      <th>1</th>\n",
       "      <td>0.234176</td>\n",
       "      <td>0.294599</td>\n",
       "      <td>0.016902</td>\n",
       "      <td>0.076502</td>\n",
       "      <td>0.050058</td>\n",
       "      <td>0.327764</td>\n",
       "    </tr>\n",
       "  </tbody>\n",
       "</table>\n",
       "</div>"
      ],
      "text/plain": [
       "operative_system   android       iOS     linux       mac     other   windows\n",
       "test                                                                        \n",
       "0                 0.237867  0.305138  0.010885  0.080692  0.051763  0.313655\n",
       "1                 0.234176  0.294599  0.016902  0.076502  0.050058  0.327764"
      ]
     },
     "execution_count": 31,
     "metadata": {},
     "output_type": "execute_result"
    }
   ],
   "source": [
    "#check split between control vs experiment group\n",
    "df.groupby(\"test\")['operative_system'].value_counts(normalize = True).unstack()"
   ]
  },
  {
   "cell_type": "markdown",
   "metadata": {},
   "source": [
    "In addition, especially the spilt for Linux doesn't follow 66%/33% split as claimed."
   ]
  },
  {
   "cell_type": "markdown",
   "metadata": {},
   "source": [
    "#### Country"
   ]
  },
  {
   "cell_type": "code",
   "execution_count": 32,
   "metadata": {},
   "outputs": [],
   "source": [
    "coverted_cty = groupby(\"country\")"
   ]
  },
  {
   "cell_type": "code",
   "execution_count": 33,
   "metadata": {},
   "outputs": [
    {
     "data": {
      "image/png": "[encoded data removed]",
      "text/plain": [
       "<Figure size 432x288 with 1 Axes>"
      ]
     },
     "metadata": {
      "needs_background": "light"
     },
     "output_type": "display_data"
    }
   ],
   "source": [
    "fig, ax = plt.subplots()\n",
    "ax = sns.barplot(data = coverted_cty, x = 'country', y = 'percentage',\n",
    "                 hue = \"group\");\n",
    "ax.legend(loc = 'upper right');\n",
    "plt.title(\"Control vs Experiment Conversion Percentage by Country\");"
   ]
  },
  {
   "cell_type": "code",
   "execution_count": 34,
   "metadata": {},
   "outputs": [
    {
     "data": {
      "text/html": [
       "<div>\n",
       "<style scoped>\n",
       "    .dataframe tbody tr th:only-of-type {\n",
       "        vertical-align: middle;\n",
       "    }\n",
       "\n",
       "    .dataframe tbody tr th {\n",
       "        vertical-align: top;\n",
       "    }\n",
       "\n",
       "    .dataframe thead th {\n",
       "        text-align: right;\n",
       "    }\n",
       "</style>\n",
       "<table border=\"1\" class=\"dataframe\">\n",
       "  <thead>\n",
       "    <tr style=\"text-align: right;\">\n",
       "      <th>country</th>\n",
       "      <th>USA</th>\n",
       "    </tr>\n",
       "    <tr>\n",
       "      <th>test</th>\n",
       "      <th></th>\n",
       "    </tr>\n",
       "  </thead>\n",
       "  <tbody>\n",
       "    <tr>\n",
       "      <th>0</th>\n",
       "      <td>1.0</td>\n",
       "    </tr>\n",
       "    <tr>\n",
       "      <th>1</th>\n",
       "      <td>1.0</td>\n",
       "    </tr>\n",
       "  </tbody>\n",
       "</table>\n",
       "</div>"
      ],
      "text/plain": [
       "country  USA\n",
       "test        \n",
       "0        1.0\n",
       "1        1.0"
      ]
     },
     "execution_count": 34,
     "metadata": {},
     "output_type": "execute_result"
    }
   ],
   "source": [
    "#check split between control vs experiment group\n",
    "df.groupby(\"test\")['country'].value_counts(normalize = True).unstack()"
   ]
  },
  {
   "cell_type": "markdown",
   "metadata": {},
   "source": [
    "#### City"
   ]
  },
  {
   "cell_type": "code",
   "execution_count": 36,
   "metadata": {},
   "outputs": [],
   "source": [
    "#test vs experiment\n",
    "con_df = df[(df['test']==0)]\n",
    "exp_df = df[(df['test']==1)]\n",
    "\n",
    "#Control group \n",
    "con_grouped = con_df.groupby(['city'])['converted'].value_counts(normalize=True).\\\n",
    "                            rename('percentage').mul(100).reset_index()\n",
    "con_grouped = con_grouped[con_grouped['converted']==1]\n",
    "con_grouped['group'] = 'Control'\n",
    "#Experiment group \n",
    "exp_grouped = exp_df.groupby(['city'])['converted'].value_counts(normalize=True).\\\n",
    "                            rename('percentage').mul(100).reset_index()\n",
    "exp_grouped = exp_grouped[exp_grouped['converted']==1]\n",
    "exp_grouped['group'] = 'Experiment'\n",
    "\n",
    "#concat\n",
    "coverted_df = pd.concat([con_grouped,exp_grouped], axis = 0)"
   ]
  },
  {
   "cell_type": "code",
   "execution_count": 37,
   "metadata": {},
   "outputs": [
    {
     "data": {
      "text/plain": [
       "298.6088840736728"
      ]
     },
     "execution_count": 37,
     "metadata": {},
     "output_type": "execute_result"
    }
   ],
   "source": [
    "#average city has ~298 users\n",
    "df.groupby('city').size().values.mean()"
   ]
  },
  {
   "cell_type": "code",
   "execution_count": 38,
   "metadata": {},
   "outputs": [],
   "source": [
    "dense_city = df.groupby('city').size().rename(\"count\").reset_index()\n",
    "dense_city = dense_city[dense_city['count']>=300]"
   ]
  },
  {
   "cell_type": "code",
   "execution_count": 39,
   "metadata": {},
   "outputs": [],
   "source": [
    "#get common cities in both control and experiment group\n",
    "con_city = set(con_grouped['city'])\n",
    "exp_city = set(exp_grouped['city'])\n",
    "den_city = set(dense_city['city'])\n",
    "common_city = set.intersection(con_city,exp_city,den_city)\n",
    "\n",
    "# coverted_df_tot = coverted_df.copy()\n",
    "coverted_df = coverted_df[coverted_df['city'].isin(common_city)]"
   ]
  },
  {
   "cell_type": "code",
   "execution_count": 40,
   "metadata": {},
   "outputs": [
    {
     "data": {
      "text/plain": [
       "198"
      ]
     },
     "execution_count": 40,
     "metadata": {},
     "output_type": "execute_result"
    }
   ],
   "source": [
    "len(common_city)"
   ]
  },
  {
   "cell_type": "code",
   "execution_count": 41,
   "metadata": {},
   "outputs": [
    {
     "data": {
      "image/png": "[encoded data removed]",
      "text/plain": [
       "<Figure size 432x288 with 1 Axes>"
      ]
     },
     "metadata": {
      "needs_background": "light"
     },
     "output_type": "display_data"
    }
   ],
   "source": [
    "#top 5 from control group\n",
    "top5_control = coverted_df[coverted_df['group']=='Control']\\\n",
    "                .sort_values('percentage', ascending= False)['city'][:5].values\n",
    "\n",
    "temp = coverted_df[coverted_df['city'].isin(top5_control)]\n",
    "fig, ax = plt.subplots()\n",
    "ax = sns.barplot(data = temp, x = 'city', y = 'percentage',\n",
    "                 hue = \"group\");\n",
    "ax.legend(loc = 'upper right');\n",
    "plt.xticks(rotation = 90);\n",
    "plt.title(\"Control vs Experiment Conversion Percentage by City\");"
   ]
  },
  {
   "cell_type": "code",
   "execution_count": 42,
   "metadata": {},
   "outputs": [
    {
     "data": {
      "text/html": [
       "<div>\n",
       "<style scoped>\n",
       "    .dataframe tbody tr th:only-of-type {\n",
       "        vertical-align: middle;\n",
       "    }\n",
       "\n",
       "    .dataframe tbody tr th {\n",
       "        vertical-align: top;\n",
       "    }\n",
       "\n",
       "    .dataframe thead th {\n",
       "        text-align: right;\n",
       "    }\n",
       "</style>\n",
       "<table border=\"1\" class=\"dataframe\">\n",
       "  <thead>\n",
       "    <tr style=\"text-align: right;\">\n",
       "      <th>city</th>\n",
       "      <th>Brentwood</th>\n",
       "      <th>Evansville</th>\n",
       "      <th>Honolulu</th>\n",
       "      <th>Lansing</th>\n",
       "      <th>Orlando</th>\n",
       "    </tr>\n",
       "    <tr>\n",
       "      <th>test</th>\n",
       "      <th></th>\n",
       "      <th></th>\n",
       "      <th></th>\n",
       "      <th></th>\n",
       "      <th></th>\n",
       "    </tr>\n",
       "  </thead>\n",
       "  <tbody>\n",
       "    <tr>\n",
       "      <th>0</th>\n",
       "      <td>231</td>\n",
       "      <td>234</td>\n",
       "      <td>225</td>\n",
       "      <td>306</td>\n",
       "      <td>268</td>\n",
       "    </tr>\n",
       "    <tr>\n",
       "      <th>1</th>\n",
       "      <td>154</td>\n",
       "      <td>191</td>\n",
       "      <td>127</td>\n",
       "      <td>167</td>\n",
       "      <td>141</td>\n",
       "    </tr>\n",
       "  </tbody>\n",
       "</table>\n",
       "</div>"
      ],
      "text/plain": [
       "city  Brentwood  Evansville  Honolulu  Lansing  Orlando\n",
       "test                                                   \n",
       "0           231         234       225      306      268\n",
       "1           154         191       127      167      141"
      ]
     },
     "execution_count": 42,
     "metadata": {},
     "output_type": "execute_result"
    }
   ],
   "source": [
    "df[df['city'].isin(top5_control)].groupby('test')['city'].value_counts().unstack()"
   ]
  },
  {
   "cell_type": "markdown",
   "metadata": {},
   "source": [
    "Brentwood is in CA, Evansville is in Indiana, Honolulu is in Hawaii, Lansing is in Michigan, Orlando is in Florida"
   ]
  },
  {
   "cell_type": "code",
   "execution_count": 43,
   "metadata": {},
   "outputs": [
    {
     "data": {
      "image/png": "[encoded data removed]",
      "text/plain": [
       "<Figure size 432x288 with 1 Axes>"
      ]
     },
     "metadata": {
      "needs_background": "light"
     },
     "output_type": "display_data"
    }
   ],
   "source": [
    "#top 5 from experiment group\n",
    "top5_exp = coverted_df[coverted_df['group']=='Experiment']\\\n",
    "                .sort_values('percentage', ascending= False)['city'][:5].values\n",
    "temp1 = coverted_df[coverted_df['city'].isin(top5_exp)]\n",
    "fig, ax = plt.subplots()\n",
    "ax = sns.barplot(data = temp1, x = 'city', y = 'percentage',\n",
    "                 hue = \"group\");\n",
    "ax.legend(loc = 'lower center');\n",
    "plt.xticks(rotation = 90);\n",
    "plt.title(\"Control vs Experiment Conversion Percentage by City\");"
   ]
  },
  {
   "cell_type": "code",
   "execution_count": 44,
   "metadata": {},
   "outputs": [
    {
     "data": {
      "text/html": [
       "<div>\n",
       "<style scoped>\n",
       "    .dataframe tbody tr th:only-of-type {\n",
       "        vertical-align: middle;\n",
       "    }\n",
       "\n",
       "    .dataframe tbody tr th {\n",
       "        vertical-align: top;\n",
       "    }\n",
       "\n",
       "    .dataframe thead th {\n",
       "        text-align: right;\n",
       "    }\n",
       "</style>\n",
       "<table border=\"1\" class=\"dataframe\">\n",
       "  <thead>\n",
       "    <tr style=\"text-align: right;\">\n",
       "      <th>city</th>\n",
       "      <th>Chesapeake</th>\n",
       "      <th>Durham</th>\n",
       "      <th>Lynn</th>\n",
       "      <th>Sacramento</th>\n",
       "      <th>Tulsa</th>\n",
       "    </tr>\n",
       "    <tr>\n",
       "      <th>test</th>\n",
       "      <th></th>\n",
       "      <th></th>\n",
       "      <th></th>\n",
       "      <th></th>\n",
       "      <th></th>\n",
       "    </tr>\n",
       "  </thead>\n",
       "  <tbody>\n",
       "    <tr>\n",
       "      <th>0</th>\n",
       "      <td>177</td>\n",
       "      <td>244</td>\n",
       "      <td>229</td>\n",
       "      <td>235</td>\n",
       "      <td>396</td>\n",
       "    </tr>\n",
       "    <tr>\n",
       "      <th>1</th>\n",
       "      <td>124</td>\n",
       "      <td>158</td>\n",
       "      <td>100</td>\n",
       "      <td>138</td>\n",
       "      <td>184</td>\n",
       "    </tr>\n",
       "  </tbody>\n",
       "</table>\n",
       "</div>"
      ],
      "text/plain": [
       "city  Chesapeake  Durham  Lynn  Sacramento  Tulsa\n",
       "test                                             \n",
       "0            177     244   229         235    396\n",
       "1            124     158   100         138    184"
      ]
     },
     "execution_count": 44,
     "metadata": {},
     "output_type": "execute_result"
    }
   ],
   "source": [
    "df[df['city'].isin(top5_exp)].groupby('test')['city'].value_counts().unstack()"
   ]
  },
  {
   "cell_type": "markdown",
   "metadata": {},
   "source": [
    "Chesapeake is in Virginia, Durham is in North Carolina, Lynn is in Massachusetts, Sacramento is in California, and Tulsa is in Oklahoma"
   ]
  },
  {
   "cell_type": "code",
   "execution_count": 45,
   "metadata": {},
   "outputs": [],
   "source": [
    "#from df2 get city location data only and remove duplicates\n",
    "location = df2[['city','lat','long']].copy()\n",
    "location.drop_duplicates(inplace = True)\n",
    "#merge with coverted_city\n",
    "merged_coverted_city = pd.merge(coverted_df,location, how = 'left', on ='city')"
   ]
  },
  {
   "cell_type": "code",
   "execution_count": 46,
   "metadata": {},
   "outputs": [
    {
     "data": {
      "text/plain": [
       "lat     35.913\n",
       "long   -98.838\n",
       "dtype: float64"
      ]
     },
     "execution_count": 46,
     "metadata": {},
     "output_type": "execute_result"
    }
   ],
   "source": [
    "#top 10 from control group\n",
    "top10_control = merged_coverted_city[merged_coverted_city['group']=='Control']\\\n",
    "                .sort_values('percentage', ascending= False)['city'][:10].values\n",
    "location[location['city'].isin(top10_control)].mean()"
   ]
  },
  {
   "cell_type": "code",
   "execution_count": 47,
   "metadata": {},
   "outputs": [
    {
     "data": {
      "text/plain": [
       "lat     33.919\n",
       "long   -88.732\n",
       "dtype: float64"
      ]
     },
     "execution_count": 47,
     "metadata": {},
     "output_type": "execute_result"
    }
   ],
   "source": [
    "#top 10 from experiment group\n",
    "top10_exp = merged_coverted_city[merged_coverted_city['group']=='Experiment']\\\n",
    "                .sort_values('percentage', ascending= False)['city'][:10].values\n",
    "location[location['city'].isin(top10_exp)].mean()"
   ]
  },
  {
   "cell_type": "markdown",
   "metadata": {},
   "source": [
    "Accoring to definition, positive latitude is above the equator (N), and negative latitude is below the equator (S), and positive longitude is east of the prime meridian, while negative longitude is west of the prime meridian (a north-south line that runs through a point in England). Looking at major cities from the control group come from western part of U.S, and on the other hand, cities from the experiment group come from eastern side."
   ]
  },
  {
   "cell_type": "markdown",
   "metadata": {},
   "source": [
    "### <a id='q2'> Should the company sell its software for 39 or 59?<a/>"
   ]
  },
  {
   "cell_type": "code",
   "execution_count": 48,
   "metadata": {},
   "outputs": [],
   "source": [
    "df['revenue'] = df['converted'] * df['price']"
   ]
  },
  {
   "cell_type": "code",
   "execution_count": 49,
   "metadata": {},
   "outputs": [
    {
     "data": {
      "text/html": [
       "<div>\n",
       "<style scoped>\n",
       "    .dataframe tbody tr th:only-of-type {\n",
       "        vertical-align: middle;\n",
       "    }\n",
       "\n",
       "    .dataframe tbody tr th {\n",
       "        vertical-align: top;\n",
       "    }\n",
       "\n",
       "    .dataframe thead th {\n",
       "        text-align: right;\n",
       "    }\n",
       "</style>\n",
       "<table border=\"1\" class=\"dataframe\">\n",
       "  <thead>\n",
       "    <tr style=\"text-align: right;\">\n",
       "      <th></th>\n",
       "      <th>converted</th>\n",
       "      <th>revenue</th>\n",
       "    </tr>\n",
       "    <tr>\n",
       "      <th>test</th>\n",
       "      <th></th>\n",
       "      <th></th>\n",
       "    </tr>\n",
       "  </thead>\n",
       "  <tbody>\n",
       "    <tr>\n",
       "      <th>0</th>\n",
       "      <td>0.019889</td>\n",
       "      <td>0.775682</td>\n",
       "    </tr>\n",
       "    <tr>\n",
       "      <th>1</th>\n",
       "      <td>0.015570</td>\n",
       "      <td>0.918644</td>\n",
       "    </tr>\n",
       "  </tbody>\n",
       "</table>\n",
       "</div>"
      ],
      "text/plain": [
       "      converted   revenue\n",
       "test                     \n",
       "0      0.019889  0.775682\n",
       "1      0.015570  0.918644"
      ]
     },
     "execution_count": 49,
     "metadata": {},
     "output_type": "execute_result"
    }
   ],
   "source": [
    "df[['test', 'converted','revenue']].groupby('test').\\\n",
    "                agg({'converted':'mean','revenue':'mean' })"
   ]
  },
  {
   "cell_type": "markdown",
   "metadata": {},
   "source": [
    "$H_0:$experiment group's average conversion **is equal or less than** control group     \n",
    "$H_1:$experiment group's average conversion **is greater than** control group"
   ]
  },
  {
   "cell_type": "code",
   "execution_count": 50,
   "metadata": {},
   "outputs": [],
   "source": [
    "t_test = stats.ttest_ind(df[df['test'] == 1]['converted'], \n",
    "                         df[df['test'] == 0]['converted'], \n",
    "                         equal_var=False)"
   ]
  },
  {
   "cell_type": "code",
   "execution_count": 51,
   "metadata": {},
   "outputs": [
    {
     "name": "stdout",
     "output_type": "stream",
     "text": [
      "-8.996272304108324 1.1750918867071857e-19\n"
     ]
    }
   ],
   "source": [
    "print(t_test.statistic, t_test.pvalue/2)"
   ]
  },
  {
   "cell_type": "markdown",
   "metadata": {},
   "source": [
    "For inequality of means, it is a one-sided test, thus need to divide the p-value by 2. Let's assume alpha = 0.05, since p value is smaller than 0.05, we reject the null hypothesis and accept the althernative hypothesis."
   ]
  },
  {
   "cell_type": "markdown",
   "metadata": {},
   "source": [
    "$H_0:$experiment group's average revenue **is equal or less than** control group     \n",
    "$H_1:$experiment group's average revenue **is greater than** control group"
   ]
  },
  {
   "cell_type": "code",
   "execution_count": 52,
   "metadata": {},
   "outputs": [],
   "source": [
    "t_test_r = stats.ttest_ind(df[df['test'] == 1]['revenue'], \n",
    "                         df[df['test'] == 0]['revenue'], \n",
    "                         equal_var=False)"
   ]
  },
  {
   "cell_type": "code",
   "execution_count": 53,
   "metadata": {},
   "outputs": [
    {
     "name": "stdout",
     "output_type": "stream",
     "text": [
      "5.770369440939589 3.961128864730514e-09\n"
     ]
    }
   ],
   "source": [
    "print(t_test_r.statistic, t_test_r.pvalue/2)"
   ]
  },
  {
   "cell_type": "markdown",
   "metadata": {},
   "source": [
    "The same conclusion to reject the null and accept the alternative hypothesis"
   ]
  },
  {
   "cell_type": "markdown",
   "metadata": {},
   "source": [
    "**Although t test suggests the company would be better off by selling at 59, the results are not 100% reliable,** \n",
    "because price isn't the only difference among all factors. For example, the split for Linux operating system isn't 66/33 split which could potentially impact test results. I would suggest further testing to ensure accurate results, and for now, no conclusions can be drawn."
   ]
  },
  {
   "cell_type": "markdown",
   "metadata": {},
   "source": [
    "### <a id='q3'>The VP of Product feels that the test has been running for too long and they should have been able to get statistically significant results in a shorter time. Do you agree with this? After how many days you would have stopped the test?<a/>"
   ]
  },
  {
   "cell_type": "markdown",
   "metadata": {},
   "source": [
    "According to the above observations, although price plays a curical role, other factors, such as source (friend referal), operative system(mac and iOS) may also impact results.\n",
    "\n",
    "For duration of the test, it would be the best to run for couple business cycles, especially during the conversion rate graph below, the conversion rate fluctuates, and there is a clear pattern that more users are active during weekends."
   ]
  },
  {
   "cell_type": "code",
   "execution_count": 54,
   "metadata": {},
   "outputs": [
    {
     "data": {
      "image/png": "[encoded data removed]",
      "text/plain": [
       "<Figure size 432x288 with 1 Axes>"
      ]
     },
     "metadata": {
      "needs_background": "light"
     },
     "output_type": "display_data"
    }
   ],
   "source": [
    "df.groupby('timestamp')['converted'].mean().plot();\n",
    "plt.title(\"Conversion Rate by date\");"
   ]
  },
  {
   "cell_type": "code",
   "execution_count": 55,
   "metadata": {},
   "outputs": [
    {
     "data": {
      "image/png": "[encoded data removed]",
      "text/plain": [
       "<Figure size 432x288 with 1 Axes>"
      ]
     },
     "metadata": {
      "needs_background": "light"
     },
     "output_type": "display_data"
    }
   ],
   "source": [
    "df.groupby('timestamp').size().plot();\n",
    "plt.title(\"Active Users by date\");"
   ]
  },
  {
   "cell_type": "code",
   "execution_count": 56,
   "metadata": {},
   "outputs": [
    {
     "data": {
      "text/plain": [
       "timestamp\n",
       "2015-03-02    1589\n",
       "2015-03-03    1496\n",
       "2015-03-04    1413\n",
       "2015-03-05    2821\n",
       "2015-03-06    7214\n",
       "2015-03-07    5688\n",
       "2015-03-08    4489\n",
       "2015-03-09    1469\n",
       "2015-03-10    1525\n",
       "2015-03-11    1412\n",
       "2015-03-12    2895\n",
       "2015-03-13    7128\n",
       "2015-03-14    5786\n",
       "2015-03-15    4067\n",
       "dtype: int64"
      ]
     },
     "execution_count": 56,
     "metadata": {},
     "output_type": "execute_result"
    }
   ],
   "source": [
    "df.groupby('timestamp').size().head(14)"
   ]
  }
 ],
 "metadata": {
  "kernelspec": {
   "display_name": "Python 3",
   "language": "python",
   "name": "python3"
  },
  "language_info": {
   "codemirror_mode": {
    "name": "ipython",
    "version": 3
   },
   "file_extension": ".py",
   "mimetype": "text/x-python",
   "name": "python",
   "nbconvert_exporter": "python",
   "pygments_lexer": "ipython3",
   "version": "3.8.5"
  }
 },
 "nbformat": 4,
 "nbformat_minor": 4
}
